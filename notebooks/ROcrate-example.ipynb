{
 "cells": [
  {
   "cell_type": "code",
   "execution_count": 5,
   "metadata": {},
   "outputs": [],
   "source": [
    "import sys\n",
    "sys.path.append('/home/padge/Elixir/workflow-export/ro-crate-py/')\n",
    "import os\n",
    "from rocrate.rocrate import ROCrate\n",
    "base_path = '/home/padge/Elixir/workflow-export/'"
   ]
  },
  {
   "cell_type": "code",
   "execution_count": 3,
   "metadata": {},
   "outputs": [
    {
     "data": {
      "text/plain": [
       "'/home/padge/Elixir/workflow-export/ro-crate-py/notebooks'"
      ]
     },
     "execution_count": 3,
     "metadata": {},
     "output_type": "execute_result"
    }
   ],
   "source": [
    "os.getcwd()"
   ]
  },
  {
   "cell_type": "code",
   "execution_count": null,
   "metadata": {},
   "outputs": [],
   "source": [
    "# adding a Dataset\n",
    "crate = ROCrate()\n",
    "os.makedirs(\"tmp3\", exist_ok=True)\n",
    "open('tmp3/empty_file', 'w').close()\n",
    "dataset_entity = crate.add_directory(source=\"tmpd3\", dest_path=\"new_tmp\")\n",
    "crate.write(\"./new_crate4\")"
   ]
  },
  {
   "cell_type": "code",
   "execution_count": null,
   "metadata": {},
   "outputs": [],
   "source": [
    "from IPython.core.debugger import set_trace;set_trace()"
   ]
  },
  {
   "cell_type": "code",
   "execution_count": 4,
   "metadata": {},
   "outputs": [
    {
     "name": "stdout",
     "output_type": "stream",
     "text": [
      "SRR10903401\n",
      "FooBar\n"
     ]
    }
   ],
   "source": [
    "shutil.rmtree(\"/home/padge/Downloads/Elixir/ro-crate-py/tmp/crate\")\n",
    "shutil.copytree(\"/home/padge/Downloads/Elixir/ro-crate-py/test/test-data/read_crate\", \"/home/padge/Downloads/Elixir/ro-crate-py/tmp/crate\")\n",
    "crate = ROCrate(\"/home/padge/Downloads/Elixir/ro-crate-py/tmp/crate\")\n",
    "readme = crate.dereference(\"test_file_galaxy.txt\")\n",
    "with open(readme.source, \"rt\") as f:\n",
    "    print(f.readline().strip())\n",
    "new_source = \"/home/padge/Downloads/Elixir/ro-crate-py/tmp/foobar.txt\"\n",
    "with open(new_source, \"wt\") as f:\n",
    "    f.write(\"FooBar\\n\")\n",
    "crate.delete(readme)\n",
    "crate.add_file(new_source, \"test_file_galaxy.txt\")\n",
    "crate.write(\"/home/padge/Downloads/Elixir/ro-crate-py/tmp/crate\")\n",
    "with open(readme.source, \"rt\") as f:\n",
    "    print(f.readline().strip())\n"
   ]
  },
  {
   "cell_type": "code",
   "execution_count": null,
   "metadata": {},
   "outputs": [],
   "source": [
    "# import pdb\n",
    "from IPython.core.debugger import set_trace\n",
    "set_trace()\n",
    "\n",
    "# adding a Dataset\n",
    "crate = ROCrate(\"/home/padge/Downloads/Elixir/ro-crate-py/tmp/crate/\")\n",
    "sample_dir = '/home/padge/Downloads/Elixir/ro-crate-py/tmp/examples2/'\n",
    "dataset_entity = crate.add_directory(sample_dir, \"new_dir\")\n",
    "crate.write(\"/home/padge/Downloads/Elixir/ro-crate-py/tmp/crate2\")\n"
   ]
  },
  {
   "cell_type": "code",
   "execution_count": 9,
   "metadata": {},
   "outputs": [],
   "source": [
    "from rocrate import rocrate_api\n",
    "\n",
    "wf_path = base_path + \"example-history-export3.ga\"\n",
    "dataset_path = base_path + \"example-history-export3/datasets/\"\n",
    "files_list = os.listdir(dataset_path)\n",
    "files_list = [dataset_path + f for f in files_list]\n",
    "\n",
    "# Create base package\n",
    "wf_crate = rocrate_api.make_workflow_rocrate(workflow_path=wf_path,wf_type=\"Galaxy\",include_files=files_list)"
   ]
  },
  {
   "cell_type": "code",
   "execution_count": 11,
   "metadata": {},
   "outputs": [],
   "source": [
    "# write crate to disk\n",
    "out_path = base_path + \"example-history-export3-crate\"\n",
    "wf_crate.write(out_path)"
   ]
  }
 ],
 "metadata": {
  "interpreter": {
   "hash": "bcc799c17010608b26cede4750872a7cf236af662c7ba3d883e539f7db8da28c"
  },
  "kernelspec": {
   "display_name": "Python 3.9.5 64-bit ('base': conda)",
   "name": "python3"
  },
  "language_info": {
   "codemirror_mode": {
    "name": "ipython",
    "version": 3
   },
   "file_extension": ".py",
   "mimetype": "text/x-python",
   "name": "python",
   "nbconvert_exporter": "python",
   "pygments_lexer": "ipython3",
   "version": "3.9.10"
  },
  "orig_nbformat": 4
 },
 "nbformat": 4,
 "nbformat_minor": 2
}
